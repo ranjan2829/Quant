{
  "nbformat": 4,
  "nbformat_minor": 0,
  "metadata": {
    "colab": {
      "provenance": [],
      "authorship_tag": "ABX9TyOhrHIfXAM3L5AAC5uML2Nd",
      "include_colab_link": true
    },
    "kernelspec": {
      "name": "python3",
      "display_name": "Python 3"
    },
    "language_info": {
      "name": "python"
    }
  },
  "cells": [
    {
      "cell_type": "markdown",
      "metadata": {
        "id": "view-in-github",
        "colab_type": "text"
      },
      "source": [
        "<a href=\"https://colab.research.google.com/github/ranjan2829/Quant/blob/main/Geometric_Brownian_Model.ipynb\" target=\"_parent\"><img src=\"https://colab.research.google.com/assets/colab-badge.svg\" alt=\"Open In Colab\"/></a>"
      ]
    },
    {
      "cell_type": "code",
      "execution_count": 1,
      "metadata": {
        "id": "aYJW0YWmmyTF"
      },
      "outputs": [],
      "source": [
        "import math\n",
        "import numpy as np\n",
        "import pandas as pd\n",
        "import scipy.stats as scs\n",
        "import statsmodels.api as sm\n",
        "import matplotlib as mpl\n",
        "import matplotlib.pyplot as plt\n",
        "mpl.rcParams['font.family'] = 'serif'"
      ]
    },
    {
      "cell_type": "code",
      "source": [
        "def dN(x, mu, sigma):\n",
        "\n",
        "  z = (x - mu) / sigma\n",
        "  pdf = np.exp(-0.5 * z ** 2) / math.sqrt(2 * math.pi * sigma ** 2)\n",
        "  return pdf"
      ],
      "metadata": {
        "id": "f8NMNlpcnQut"
      },
      "execution_count": 3,
      "outputs": []
    },
    {
      "cell_type": "code",
      "source": [
        "def simulate_gbm():\n",
        "    # model parameters\n",
        "    S0 = 100.0  # initial index level\n",
        "    T = 10.0  # time horizon\n",
        "    r = 0.05  # risk-less short rate\n",
        "    vol = 0.2  # instantaneous volatility\n",
        "\n",
        "    # simulation parameters\n",
        "    np.random.seed(250000)\n",
        "    gbm_dates = pd.DatetimeIndex(start='30-09-2004',\n",
        "                                 end='30-09-2014',\n",
        "                                 freq='B')\n",
        "    M = len(gbm_dates)  # time steps\n",
        "    I = 1  # index level paths\n",
        "    dt = 1 / 252.  # fixed for simplicity\n",
        "    df = math.exp(-r * dt)  # discount factor\n",
        "    rand=np.random.standard_normal((M,I))\n",
        "    S=np.zeros_like(rand)\n",
        "    S[0]=S0\n",
        "    for t in range(1,M):\n",
        "      S[t]=S[t-1]*np.exp((r-vol **2 /2)*dt +vol*rand[t]*math.sqrt(dt))\n",
        "    gbm=pd.DataFrame(S[:,0],index=gbm_dates,colums=['index'])\n",
        "    gbm['returns']=np.log(gbm['index']/gbm['index'].shift(1))\n",
        "    gbm['rea_var']=252*np.cumsum(gbm['returns']**2)/np.arrange(len(gbm))\n",
        "    gbm=gbm.dropna()\n",
        "    return gbm"
      ],
      "metadata": {
        "id": "E-FRSMdenTLD"
      },
      "execution_count": 12,
      "outputs": []
    },
    {
      "cell_type": "code",
      "source": [
        "def print_statistics(data):\n",
        "    print(\"RETURN SAMPLE STATISTICS\")\n",
        "    print(\"---------------------------------------------\")\n",
        "    print(\"Mean of Daily  Log Returns %9.6f\" % np.mean(data['returns']))\n",
        "    print(\"Mean of Annua. Log Returns %9.6f\" %\n",
        "          (np.mean(data['returns']) * 252))\n",
        "    print(\"Std  of Annua. Log Returns %9.6f\" %\n",
        "          (np.std(data['returns']) * math.sqrt(252)))\n",
        "    print(\"---------------------------------------------\")\n",
        "    print(\"Skew of Sample Log Returns %9.6f\" % scs.skew(data['returns']))\n",
        "    print(\"Skew Normal Test p-value   %9.6f\" %\n",
        "          scs.skewtest(data['returns'])[1])\n",
        "    print(\"---------------------------------------------\")\n",
        "    print(\"Kurt of Sample Log Returns %9.6f\" % scs.kurtosis(data['returns']))\n",
        "    print(\"Kurt Normal Test p-value   %9.6f\" %\n",
        "          scs.kurtosistest(data['returns'])[1])\n",
        "    print(\"---------------------------------------------\")\n",
        "    print(\"Normal Test p-value        %9.6f\" %\n",
        "          scs.normaltest(data['returns'])[1])\n",
        "    print(\"---------------------------------------------\")\n",
        "    print(\"Realized Volatility        %9.6f\" % data['rea_vol'].iloc[-1])\n",
        "    print(\"Realized Variance          %9.6f\" % data['rea_var'].iloc[-1])"
      ],
      "metadata": {
        "id": "EZNevOJ2nwph"
      },
      "execution_count": 13,
      "outputs": []
    },
    {
      "cell_type": "code",
      "source": [
        "print_statistics()"
      ],
      "metadata": {
        "colab": {
          "base_uri": "https://localhost:8080/",
          "height": 144
        },
        "id": "cyjC1imdocba",
        "outputId": "00d30001-97d5-4310-cc40-b4d80413d90f"
      },
      "execution_count": 14,
      "outputs": [
        {
          "output_type": "error",
          "ename": "TypeError",
          "evalue": "print_statistics() missing 1 required positional argument: 'data'",
          "traceback": [
            "\u001b[0;31m---------------------------------------------------------------------------\u001b[0m",
            "\u001b[0;31mTypeError\u001b[0m                                 Traceback (most recent call last)",
            "\u001b[0;32m<ipython-input-14-785e5b5b8005>\u001b[0m in \u001b[0;36m<cell line: 1>\u001b[0;34m()\u001b[0m\n\u001b[0;32m----> 1\u001b[0;31m \u001b[0mprint_statistics\u001b[0m\u001b[0;34m(\u001b[0m\u001b[0;34m)\u001b[0m\u001b[0;34m\u001b[0m\u001b[0;34m\u001b[0m\u001b[0m\n\u001b[0m",
            "\u001b[0;31mTypeError\u001b[0m: print_statistics() missing 1 required positional argument: 'data'"
          ]
        }
      ]
    },
    {
      "cell_type": "code",
      "source": [],
      "metadata": {
        "id": "TbFQW7oarCYt"
      },
      "execution_count": null,
      "outputs": []
    }
  ]
}