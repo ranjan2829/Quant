{
  "cells": [
    {
      "cell_type": "markdown",
      "id": "ee7defea",
      "metadata": {
        "id": "ee7defea"
      },
      "source": [
        "# Unsupervised Learning Trading Strategy\n",
        "\n",
        "* Download/Load SP500 stocks prices data.\n",
        "* Calculate different features and indicators on each stock.\n",
        "* Aggregate on monthly level and filter top 150 most liquid stocks.\n",
        "* Calculate Monthly Returns for different time-horizons.\n",
        "* Download Fama-French Factors and Calculate Rolling Factor Betas.\n",
        "* For each month fit a K-Means Clustering Algorithm to group similar assets based on their features.\n",
        "* For each month select assets based on the cluster and form a portfolio based on Efficient Frontier max sharpe ratio optimization.\n",
        "* Visualize Portfolio returns and compare to SP500 returns."
      ]
    },
    {
      "cell_type": "markdown",
      "id": "2eaf4331",
      "metadata": {
        "id": "2eaf4331"
      },
      "source": [
        "# All Packages Needed:\n",
        "* pandas, numpy, matplotlib, statsmodels, pandas_datareader, datetime, yfinance, sklearn, PyPortfolioOpt"
      ]
    },
    {
      "cell_type": "markdown",
      "id": "dfeddf97",
      "metadata": {
        "id": "dfeddf97"
      },
      "source": [
        "## 1. Download/Load SP500 stocks prices data."
      ]
    },
    {
      "cell_type": "code",
      "execution_count": null,
      "id": "8c1d8f41",
      "metadata": {
        "id": "8c1d8f41"
      },
      "outputs": [],
      "source": [
        "from statsmodels.regression.rolling import RollingOLS\n",
        "import pandas_datareader.data as web\n",
        "import matplotlib.pyplot as plt\n",
        "import statsmodels.api as sm\n",
        "import pandas as pd\n",
        "import numpy as np\n",
        "import datetime as dt\n",
        "import yfinance as yf\n",
        "import pandas_ta\n",
        "import warnings\n",
        "warnings.filterwarnings('ignore')\n",
        "\n",
        "sp500 = pd.read_html('https://en.wikipedia.org/wiki/List_of_S%26P_500_companies')[0]\n",
        "\n",
        "sp500['Symbol'] = sp500['Symbol'].str.replace('.', '-')\n",
        "\n",
        "symbols_list = sp500['Symbol'].unique().tolist()\n",
        "\n",
        "end_date = '2023-09-27'\n",
        "\n",
        "start_date = pd.to_datetime(end_date)-pd.DateOffset(365*8)\n",
        "\n",
        "df = yf.download(tickers=symbols_list,\n",
        "                 start=start_date,\n",
        "                 end=end_date).stack()\n",
        "\n",
        "df.index.names = ['date', 'ticker']\n",
        "\n",
        "df.columns = df.columns.str.lower()\n",
        "\n",
        "df"
      ]
    },
    {
      "cell_type": "code",
      "execution_count": null,
      "id": "e0c34ef5",
      "metadata": {
        "id": "e0c34ef5"
      },
      "outputs": [],
      "source": []
    },
    {
      "cell_type": "markdown",
      "id": "55746c31",
      "metadata": {
        "id": "55746c31"
      },
      "source": [
        "## 2. Calculate features and technical indicators for each stock.\n",
        "\n",
        "* Garman-Klass Volatility\n",
        "* RSI\n",
        "* Bollinger Bands\n",
        "* ATR\n",
        "* MACD\n",
        "* Dollar Volume"
      ]
    },
    {
      "cell_type": "markdown",
      "id": "2c94feae",
      "metadata": {
        "id": "2c94feae"
      },
      "source": [
        "\\begin{equation}\n",
        "\\text{Garman-Klass Volatility} = \\frac{(\\ln(\\text{High}) - \\ln(\\text{Low}))^2}{2} - (2\\ln(2) - 1)(\\ln(\\text{Adj Close}) - \\ln(\\text{Open}))^2\n",
        "\\end{equation}"
      ]
    },
    {
      "cell_type": "code",
      "execution_count": null,
      "id": "481fd2a6",
      "metadata": {
        "id": "481fd2a6"
      },
      "outputs": [],
      "source": [
        "df['garman_klass_vol'] = ((np.log(df['high'])-np.log(df['low']))**2)/2-(2*np.log(2)-1)*((np.log(df['adj close'])-np.log(df['open']))**2)\n",
        "\n",
        "df['rsi'] = df.groupby(level=1)['adj close'].transform(lambda x: pandas_ta.rsi(close=x, length=20))\n",
        "\n",
        "df['bb_low'] = df.groupby(level=1)['adj close'].transform(lambda x: pandas_ta.bbands(close=np.log1p(x), length=20).iloc[:,0])\n",
        "\n",
        "df['bb_mid'] = df.groupby(level=1)['adj close'].transform(lambda x: pandas_ta.bbands(close=np.log1p(x), length=20).iloc[:,1])\n",
        "\n",
        "df['bb_high'] = df.groupby(level=1)['adj close'].transform(lambda x: pandas_ta.bbands(close=np.log1p(x), length=20).iloc[:,2])\n",
        "\n",
        "def compute_atr(stock_data):\n",
        "    atr = pandas_ta.atr(high=stock_data['high'],\n",
        "                        low=stock_data['low'],\n",
        "                        close=stock_data['close'],\n",
        "                        length=14)\n",
        "    return atr.sub(atr.mean()).div(atr.std())\n",
        "\n",
        "df['atr'] = df.groupby(level=1, group_keys=False).apply(compute_atr)\n",
        "\n",
        "def compute_macd(close):\n",
        "    macd = pandas_ta.macd(close=close, length=20).iloc[:,0]\n",
        "    return macd.sub(macd.mean()).div(macd.std())\n",
        "\n",
        "df['macd'] = df.groupby(level=1, group_keys=False)['adj close'].apply(compute_macd)\n",
        "\n",
        "df['dollar_volume'] = (df['adj close']*df['volume'])/1e6\n",
        "\n",
        "df"
      ]
    },
    {
      "cell_type": "code",
      "execution_count": null,
      "id": "31e7ef78",
      "metadata": {
        "id": "31e7ef78"
      },
      "outputs": [],
      "source": []
    },
    {
      "cell_type": "markdown",
      "id": "c735696b",
      "metadata": {
        "id": "c735696b"
      },
      "source": [
        "## 3. Aggregate to monthly level and filter top 150 most liquid stocks for each month.\n",
        "\n",
        "* To reduce training time and experiment with features and strategies, we convert the business-daily data to month-end frequency."
      ]
    },
    {
      "cell_type": "code",
      "execution_count": null,
      "id": "8ec67c59",
      "metadata": {
        "id": "8ec67c59"
      },
      "outputs": [],
      "source": [
        "last_cols = [c for c in df.columns.unique(0) if c not in ['dollar_volume', 'volume', 'open',\n",
        "                                                          'high', 'low', 'close']]\n",
        "\n",
        "data = (pd.concat([df.unstack('ticker')['dollar_volume'].resample('M').mean().stack('ticker').to_frame('dollar_volume'),\n",
        "                   df.unstack()[last_cols].resample('M').last().stack('ticker')],\n",
        "                  axis=1)).dropna()\n",
        "\n",
        "data"
      ]
    },
    {
      "cell_type": "markdown",
      "id": "e632ffc7",
      "metadata": {
        "id": "e632ffc7"
      },
      "source": [
        "* Calculate 5-year rolling average of dollar volume for each stocks before filtering."
      ]
    },
    {
      "cell_type": "code",
      "execution_count": null,
      "id": "a5208030",
      "metadata": {
        "id": "a5208030"
      },
      "outputs": [],
      "source": [
        "data['dollar_volume'] = (data.loc[:, 'dollar_volume'].unstack('ticker').rolling(5*12, min_periods=12).mean().stack())\n",
        "\n",
        "data['dollar_vol_rank'] = (data.groupby('date')['dollar_volume'].rank(ascending=False))\n",
        "\n",
        "data = data[data['dollar_vol_rank']<150].drop(['dollar_volume', 'dollar_vol_rank'], axis=1)\n",
        "\n",
        "data"
      ]
    },
    {
      "cell_type": "markdown",
      "id": "a8e13a3b",
      "metadata": {
        "id": "a8e13a3b"
      },
      "source": [
        "## 4. Calculate Monthly Returns for different time horizons as features.\n",
        "\n",
        "* To capture time series dynamics that reflect, for example, momentum patterns, we compute historical returns using the method .pct_change(lag), that is, returns over various monthly periods as identified by lags."
      ]
    },
    {
      "cell_type": "code",
      "execution_count": null,
      "id": "bda8d55d",
      "metadata": {
        "id": "bda8d55d"
      },
      "outputs": [],
      "source": [
        "def calculate_returns(df):\n",
        "\n",
        "    outlier_cutoff = 0.005\n",
        "\n",
        "    lags = [1, 2, 3, 6, 9, 12]\n",
        "\n",
        "    for lag in lags:\n",
        "\n",
        "        df[f'return_{lag}m'] = (df['adj close']\n",
        "                              .pct_change(lag)\n",
        "                              .pipe(lambda x: x.clip(lower=x.quantile(outlier_cutoff),\n",
        "                                                     upper=x.quantile(1-outlier_cutoff)))\n",
        "                              .add(1)\n",
        "                              .pow(1/lag)\n",
        "                              .sub(1))\n",
        "    return df\n",
        "\n",
        "\n",
        "data = data.groupby(level=1, group_keys=False).apply(calculate_returns).dropna()\n",
        "\n",
        "data"
      ]
    },
    {
      "cell_type": "markdown",
      "id": "df434b55",
      "metadata": {
        "id": "df434b55"
      },
      "source": [
        "## 5. Download Fama-French Factors and Calculate Rolling Factor Betas.\n",
        "\n",
        "* We will introduce the Fama—French data to estimate the exposure of assets to common risk factors using linear regression.\n",
        "\n",
        "* The five Fama—French factors, namely market risk, size, value, operating profitability, and investment have been shown empirically to explain asset returns and are commonly used to assess the risk/return profile of portfolios. Hence, it is natural to include past factor exposures as financial features in models.\n",
        "\n",
        "* We can access the historical factor returns using the pandas-datareader and estimate historical exposures using the RollingOLS rolling linear regression."
      ]
    },
    {
      "cell_type": "code",
      "execution_count": null,
      "id": "d64a7ab7",
      "metadata": {
        "id": "d64a7ab7"
      },
      "outputs": [],
      "source": [
        "factor_data = web.DataReader('F-F_Research_Data_5_Factors_2x3',\n",
        "                               'famafrench',\n",
        "                               start='2010')[0].drop('RF', axis=1)\n",
        "\n",
        "factor_data.index = factor_data.index.to_timestamp()\n",
        "\n",
        "factor_data = factor_data.resample('M').last().div(100)\n",
        "\n",
        "factor_data.index.name = 'date'\n",
        "\n",
        "factor_data = factor_data.join(data['return_1m']).sort_index()\n",
        "\n",
        "factor_data"
      ]
    },
    {
      "cell_type": "markdown",
      "id": "8840bf3b",
      "metadata": {
        "id": "8840bf3b"
      },
      "source": [
        "* Filter out stocks with less than 10 months of data."
      ]
    },
    {
      "cell_type": "code",
      "execution_count": null,
      "id": "d586d806",
      "metadata": {
        "id": "d586d806"
      },
      "outputs": [],
      "source": [
        "observations = factor_data.groupby(level=1).size()\n",
        "\n",
        "valid_stocks = observations[observations >= 10]\n",
        "\n",
        "factor_data = factor_data[factor_data.index.get_level_values('ticker').isin(valid_stocks.index)]\n",
        "\n",
        "factor_data"
      ]
    },
    {
      "cell_type": "markdown",
      "id": "f0107433",
      "metadata": {
        "id": "f0107433"
      },
      "source": [
        "* Calculate Rolling Factor Betas."
      ]
    },
    {
      "cell_type": "code",
      "execution_count": null,
      "id": "8364bbad",
      "metadata": {
        "id": "8364bbad"
      },
      "outputs": [],
      "source": [
        "betas = (factor_data.groupby(level=1,\n",
        "                            group_keys=False)\n",
        "         .apply(lambda x: RollingOLS(endog=x['return_1m'],\n",
        "                                     exog=sm.add_constant(x.drop('return_1m', axis=1)),\n",
        "                                     window=min(24, x.shape[0]),\n",
        "                                     min_nobs=len(x.columns)+1)\n",
        "         .fit(params_only=True)\n",
        "         .params\n",
        "         .drop('const', axis=1)))\n",
        "\n",
        "betas"
      ]
    },
    {
      "cell_type": "markdown",
      "id": "5491e61a",
      "metadata": {
        "id": "5491e61a"
      },
      "source": [
        "* Join the rolling factors data to the main features dataframe."
      ]
    },
    {
      "cell_type": "code",
      "execution_count": null,
      "id": "e169594b",
      "metadata": {
        "id": "e169594b"
      },
      "outputs": [],
      "source": [
        "factors = ['Mkt-RF', 'SMB', 'HML', 'RMW', 'CMA']\n",
        "\n",
        "data = (data.join(betas.groupby('ticker').shift()))\n",
        "\n",
        "data.loc[:, factors] = data.groupby('ticker', group_keys=False)[factors].apply(lambda x: x.fillna(x.mean()))\n",
        "\n",
        "data = data.drop('adj close', axis=1)\n",
        "\n",
        "data = data.dropna()\n",
        "\n",
        "data.info()"
      ]
    },
    {
      "cell_type": "markdown",
      "id": "81eeb7f6",
      "metadata": {
        "id": "81eeb7f6"
      },
      "source": [
        "### At this point we have to decide on what ML model and approach to use for predictions etc.\n"
      ]
    },
    {
      "cell_type": "markdown",
      "id": "785bbfb3",
      "metadata": {
        "id": "785bbfb3"
      },
      "source": [
        "## 6. For each month fit a K-Means Clustering Algorithm to group similar assets based on their features.\n",
        "\n",
        "### K-Means Clustering\n",
        "* You may want to initialize predefined centroids for each cluster based on your research.\n",
        "\n",
        "* For visualization purpose of this tutorial we will initially rely on the ‘k-means++’ initialization.\n",
        "\n",
        "* Then we will pre-define our centroids for each cluster."
      ]
    },
    {
      "cell_type": "code",
      "execution_count": null,
      "id": "3a94dc1a",
      "metadata": {
        "scrolled": false,
        "id": "3a94dc1a"
      },
      "outputs": [],
      "source": []
    },
    {
      "cell_type": "code",
      "execution_count": null,
      "id": "6323ab80",
      "metadata": {
        "scrolled": false,
        "id": "6323ab80"
      },
      "outputs": [],
      "source": [
        "from sklearn.cluster import KMeans\n",
        "\n",
        "data = data.drop('cluster', axis=1)\n",
        "\n",
        "def get_clusters(df):\n",
        "    df['cluster'] = KMeans(n_clusters=4,\n",
        "                           random_state=0,\n",
        "                           init=initial_centroids).fit(df).labels_\n",
        "    return df\n",
        "\n",
        "data = data.dropna().groupby('date', group_keys=False).apply(get_clusters)\n",
        "\n",
        "data"
      ]
    },
    {
      "cell_type": "code",
      "execution_count": null,
      "id": "4a66097e",
      "metadata": {
        "id": "4a66097e"
      },
      "outputs": [],
      "source": [
        "def plot_clusters(data):\n",
        "\n",
        "    cluster_0 = data[data['cluster']==0]\n",
        "    cluster_1 = data[data['cluster']==1]\n",
        "    cluster_2 = data[data['cluster']==2]\n",
        "    cluster_3 = data[data['cluster']==3]\n",
        "\n",
        "    plt.scatter(cluster_0.iloc[:,0] , cluster_0.iloc[:,6] , color = 'red', label='cluster 0')\n",
        "    plt.scatter(cluster_1.iloc[:,0] , cluster_1.iloc[:,6] , color = 'green', label='cluster 1')\n",
        "    plt.scatter(cluster_2.iloc[:,0] , cluster_2.iloc[:,6] , color = 'blue', label='cluster 2')\n",
        "    plt.scatter(cluster_3.iloc[:,0] , cluster_3.iloc[:,6] , color = 'black', label='cluster 3')\n",
        "\n",
        "    plt.legend()\n",
        "    plt.show()\n",
        "    return\n"
      ]
    },
    {
      "cell_type": "code",
      "execution_count": null,
      "id": "984bd52f",
      "metadata": {
        "scrolled": true,
        "id": "984bd52f"
      },
      "outputs": [],
      "source": [
        "plt.style.use('ggplot')\n",
        "\n",
        "for i in data.index.get_level_values('date').unique().tolist():\n",
        "\n",
        "    g = data.xs(i, level=0)\n",
        "\n",
        "    plt.title(f'Date {i}')\n",
        "\n",
        "    plot_clusters(g)"
      ]
    },
    {
      "cell_type": "markdown",
      "id": "27e52a4f",
      "metadata": {
        "id": "27e52a4f"
      },
      "source": [
        "### Apply pre-defined centroids."
      ]
    },
    {
      "cell_type": "code",
      "execution_count": null,
      "id": "d945fd54",
      "metadata": {
        "id": "d945fd54"
      },
      "outputs": [],
      "source": [
        "target_rsi_values = [30, 45, 55, 70]\n",
        "\n",
        "initial_centroids = np.zeros((len(target_rsi_values), 18))\n",
        "\n",
        "initial_centroids[:, 6] = target_rsi_values\n",
        "\n",
        "initial_centroids"
      ]
    },
    {
      "cell_type": "markdown",
      "id": "9d28c49e",
      "metadata": {
        "id": "9d28c49e"
      },
      "source": [
        "## 7. For each month select assets based on the cluster and form a portfolio based on Efficient Frontier max sharpe ratio optimization\n",
        "\n",
        "* First we will filter only stocks corresponding to the cluster we choose based on our hypothesis.\n",
        "\n",
        "* Momentum is persistent and my idea would be that stocks clustered around RSI 70 centroid should continue to outperform in the following month - thus I would select stocks corresponding to cluster 3.\n"
      ]
    },
    {
      "cell_type": "code",
      "execution_count": null,
      "id": "4565941a",
      "metadata": {
        "id": "4565941a"
      },
      "outputs": [],
      "source": [
        "filtered_df = data[data['cluster']==3].copy()\n",
        "\n",
        "filtered_df = filtered_df.reset_index(level=1)\n",
        "\n",
        "filtered_df.index = filtered_df.index+pd.DateOffset(1)\n",
        "\n",
        "filtered_df = filtered_df.reset_index().set_index(['date', 'ticker'])\n",
        "\n",
        "dates = filtered_df.index.get_level_values('date').unique().tolist()\n",
        "\n",
        "fixed_dates = {}\n",
        "\n",
        "for d in dates:\n",
        "\n",
        "    fixed_dates[d.strftime('%Y-%m-%d')] = filtered_df.xs(d, level=0).index.tolist()\n",
        "\n",
        "fixed_dates"
      ]
    },
    {
      "cell_type": "markdown",
      "id": "097f9941",
      "metadata": {
        "id": "097f9941"
      },
      "source": [
        "### Define portfolio optimization function\n",
        "\n",
        "* We will define a function which optimizes portfolio weights using PyPortfolioOpt package and EfficientFrontier optimizer to maximize the sharpe ratio.\n",
        "\n",
        "* To optimize the weights of a given portfolio we would need to supply last 1 year prices to the function.\n",
        "\n",
        "* Apply signle stock weight bounds constraint for diversification (minimum half of equaly weight and maximum 10% of portfolio)."
      ]
    },
    {
      "cell_type": "code",
      "execution_count": null,
      "id": "e2888d07",
      "metadata": {
        "id": "e2888d07"
      },
      "outputs": [],
      "source": [
        "from pypfopt.efficient_frontier import EfficientFrontier\n",
        "from pypfopt import risk_models\n",
        "from pypfopt import expected_returns\n",
        "\n",
        "def optimize_weights(prices, lower_bound=0):\n",
        "\n",
        "    returns = expected_returns.mean_historical_return(prices=prices,\n",
        "                                                      frequency=252)\n",
        "\n",
        "    cov = risk_models.sample_cov(prices=prices,\n",
        "                                 frequency=252)\n",
        "\n",
        "    ef = EfficientFrontier(expected_returns=returns,\n",
        "                           cov_matrix=cov,\n",
        "                           weight_bounds=(lower_bound, .1),\n",
        "                           solver='SCS')\n",
        "\n",
        "    weights = ef.max_sharpe()\n",
        "\n",
        "    return ef.clean_weights()\n"
      ]
    },
    {
      "cell_type": "markdown",
      "id": "1fd59c17",
      "metadata": {
        "id": "1fd59c17"
      },
      "source": [
        "* Download Fresh Daily Prices Data only for short listed stocks."
      ]
    },
    {
      "cell_type": "code",
      "execution_count": null,
      "id": "41d737d6",
      "metadata": {
        "id": "41d737d6"
      },
      "outputs": [],
      "source": [
        "stocks = data.index.get_level_values('ticker').unique().tolist()\n",
        "\n",
        "new_df = yf.download(tickers=stocks,\n",
        "                     start=data.index.get_level_values('date').unique()[0]-pd.DateOffset(months=12),\n",
        "                     end=data.index.get_level_values('date').unique()[-1])\n",
        "\n",
        "new_df"
      ]
    },
    {
      "cell_type": "markdown",
      "id": "3d8b906e",
      "metadata": {
        "id": "3d8b906e"
      },
      "source": [
        "* Calculate daily returns for each stock which could land up in our portfolio.\n",
        "\n",
        "* Then loop over each month start, select the stocks for the month and calculate their weights for the next month.\n",
        "\n",
        "* If the maximum sharpe ratio optimization fails for a given month, apply equally-weighted weights.\n",
        "\n",
        "* Calculated each day portfolio return."
      ]
    },
    {
      "cell_type": "code",
      "execution_count": null,
      "id": "d5a1120f",
      "metadata": {
        "id": "d5a1120f"
      },
      "outputs": [],
      "source": [
        "returns_dataframe = np.log(new_df['Adj Close']).diff()\n",
        "\n",
        "portfolio_df = pd.DataFrame()\n",
        "\n",
        "for start_date in fixed_dates.keys():\n",
        "\n",
        "    try:\n",
        "\n",
        "        end_date = (pd.to_datetime(start_date)+pd.offsets.MonthEnd(0)).strftime('%Y-%m-%d')\n",
        "\n",
        "        cols = fixed_dates[start_date]\n",
        "\n",
        "        optimization_start_date = (pd.to_datetime(start_date)-pd.DateOffset(months=12)).strftime('%Y-%m-%d')\n",
        "\n",
        "        optimization_end_date = (pd.to_datetime(start_date)-pd.DateOffset(days=1)).strftime('%Y-%m-%d')\n",
        "\n",
        "        optimization_df = new_df[optimization_start_date:optimization_end_date]['Adj Close'][cols]\n",
        "\n",
        "        success = False\n",
        "        try:\n",
        "            weights = optimize_weights(prices=optimization_df,\n",
        "                                   lower_bound=round(1/(len(optimization_df.columns)*2),3))\n",
        "\n",
        "            weights = pd.DataFrame(weights, index=pd.Series(0))\n",
        "\n",
        "            success = True\n",
        "        except:\n",
        "            print(f'Max Sharpe Optimization failed for {start_date}, Continuing with Equal-Weights')\n",
        "\n",
        "        if success==False:\n",
        "            weights = pd.DataFrame([1/len(optimization_df.columns) for i in range(len(optimization_df.columns))],\n",
        "                                     index=optimization_df.columns.tolist(),\n",
        "                                     columns=pd.Series(0)).T\n",
        "\n",
        "        temp_df = returns_dataframe[start_date:end_date]\n",
        "\n",
        "        temp_df = temp_df.stack().to_frame('return').reset_index(level=0)\\\n",
        "                   .merge(weights.stack().to_frame('weight').reset_index(level=0, drop=True),\n",
        "                          left_index=True,\n",
        "                          right_index=True)\\\n",
        "                   .reset_index().set_index(['Date', 'index']).unstack().stack()\n",
        "\n",
        "        temp_df.index.names = ['date', 'ticker']\n",
        "\n",
        "        temp_df['weighted_return'] = temp_df['return']*temp_df['weight']\n",
        "\n",
        "        temp_df = temp_df.groupby(level=0)['weighted_return'].sum().to_frame('Strategy Return')\n",
        "\n",
        "        portfolio_df = pd.concat([portfolio_df, temp_df], axis=0)\n",
        "\n",
        "    except Exception as e:\n",
        "        print(e)\n",
        "\n",
        "portfolio_df = portfolio_df.drop_duplicates()\n",
        "\n",
        "portfolio_df"
      ]
    },
    {
      "cell_type": "markdown",
      "id": "dcced0d1",
      "metadata": {
        "id": "dcced0d1"
      },
      "source": [
        "## 8. Visualize Portfolio returns and compare to SP500 returns."
      ]
    },
    {
      "cell_type": "code",
      "execution_count": null,
      "id": "2bba264c",
      "metadata": {
        "id": "2bba264c"
      },
      "outputs": [],
      "source": [
        "spy = yf.download(tickers='SPY',\n",
        "                  start='2015-01-01',\n",
        "                  end=dt.date.today())\n",
        "\n",
        "spy_ret = np.log(spy[['Adj Close']]).diff().dropna().rename({'Adj Close':'SPY Buy&Hold'}, axis=1)\n",
        "\n",
        "portfolio_df = portfolio_df.merge(spy_ret,\n",
        "                                  left_index=True,\n",
        "                                  right_index=True)\n",
        "\n",
        "portfolio_df"
      ]
    },
    {
      "cell_type": "code",
      "execution_count": null,
      "id": "1235b1e1",
      "metadata": {
        "id": "1235b1e1"
      },
      "outputs": [],
      "source": [
        "import matplotlib.ticker as mtick\n",
        "\n",
        "plt.style.use('ggplot')\n",
        "\n",
        "portfolio_cumulative_return = np.exp(np.log1p(portfolio_df).cumsum())-1\n",
        "\n",
        "portfolio_cumulative_return[:'2023-09-29'].plot(figsize=(16,6))\n",
        "\n",
        "plt.title('Unsupervised Learning Trading Strategy Returns Over Time')\n",
        "\n",
        "plt.gca().yaxis.set_major_formatter(mtick.PercentFormatter(1))\n",
        "\n",
        "plt.ylabel('Return')\n",
        "\n",
        "plt.show()\n"
      ]
    },
    {
      "cell_type": "code",
      "execution_count": null,
      "id": "87b332e3",
      "metadata": {
        "id": "87b332e3"
      },
      "outputs": [],
      "source": []
    },
    {
      "cell_type": "code",
      "execution_count": null,
      "id": "9c2ca999",
      "metadata": {
        "id": "9c2ca999"
      },
      "outputs": [],
      "source": []
    },
    {
      "cell_type": "code",
      "execution_count": null,
      "id": "a21504e7",
      "metadata": {
        "id": "a21504e7"
      },
      "outputs": [],
      "source": []
    },
    {
      "cell_type": "code",
      "execution_count": null,
      "id": "770ff70f",
      "metadata": {
        "id": "770ff70f"
      },
      "outputs": [],
      "source": []
    },
    {
      "cell_type": "code",
      "execution_count": null,
      "id": "31019716",
      "metadata": {
        "id": "31019716"
      },
      "outputs": [],
      "source": []
    },
    {
      "cell_type": "code",
      "execution_count": null,
      "id": "ed1384dc",
      "metadata": {
        "id": "ed1384dc"
      },
      "outputs": [],
      "source": []
    },
    {
      "cell_type": "code",
      "execution_count": null,
      "id": "645a75c6",
      "metadata": {
        "id": "645a75c6"
      },
      "outputs": [],
      "source": []
    },
    {
      "cell_type": "code",
      "execution_count": null,
      "id": "a37a8a52",
      "metadata": {
        "id": "a37a8a52"
      },
      "outputs": [],
      "source": []
    },
    {
      "cell_type": "markdown",
      "id": "d1f18007",
      "metadata": {
        "id": "d1f18007"
      },
      "source": [
        "# Twitter Sentiment Investing Strategy\n",
        "\n",
        "## 1. Load Twitter Sentiment Data\n",
        "\n",
        "* Load the twitter sentiment dataset, set the index, calculat engagement ratio and filter out stocks with no significant twitter activity."
      ]
    },
    {
      "cell_type": "code",
      "execution_count": null,
      "id": "d947792e",
      "metadata": {
        "id": "d947792e"
      },
      "outputs": [],
      "source": [
        "import pandas as pd\n",
        "import numpy as np\n",
        "import matplotlib.pyplot as plt\n",
        "import datetime as dt\n",
        "import yfinance as yf\n",
        "import os\n",
        "plt.style.use('ggplot')\n",
        "\n",
        "data_folder = 'C:/Users/user/Desktop/Python Scripts'\n",
        "\n",
        "sentiment_df = pd.read_csv(os.path.join(data_folder, 'sentiment_data.csv'))\n",
        "\n",
        "sentiment_df['date'] = pd.to_datetime(sentiment_df['date'])\n",
        "\n",
        "sentiment_df = sentiment_df.set_index(['date', 'symbol'])\n",
        "\n",
        "sentiment_df['engagement_ratio'] = sentiment_df['twitterComments']/sentiment_df['twitterLikes']\n",
        "\n",
        "sentiment_df = sentiment_df[(sentiment_df['twitterLikes']>20)&(sentiment_df['twitterComments']>10)]\n",
        "\n",
        "sentiment_df"
      ]
    },
    {
      "cell_type": "markdown",
      "id": "cde71915",
      "metadata": {
        "id": "cde71915"
      },
      "source": [
        "## 2. Aggregate Monthly and calculate average sentiment for the month\n",
        "\n",
        "* Aggregate on a monthly level and calculate average monthly metric, for the one we choose."
      ]
    },
    {
      "cell_type": "code",
      "execution_count": null,
      "id": "a1158a73",
      "metadata": {
        "id": "a1158a73"
      },
      "outputs": [],
      "source": [
        "aggragated_df = (sentiment_df.reset_index('symbol').groupby([pd.Grouper(freq='M'), 'symbol'])\n",
        "                    [['engagement_ratio']].mean())\n",
        "\n",
        "aggragated_df['rank'] = (aggragated_df.groupby(level=0)['engagement_ratio']\n",
        "                         .transform(lambda x: x.rank(ascending=False)))\n",
        "\n",
        "aggragated_df"
      ]
    },
    {
      "cell_type": "markdown",
      "id": "22d9f188",
      "metadata": {
        "id": "22d9f188"
      },
      "source": [
        "## 3. Select Top 5 Stocks based on their cross-sectional ranking for each month\n",
        "\n",
        "* Select top 5 stocks by rank for each month and fix the date to start at beginning of next month."
      ]
    },
    {
      "cell_type": "code",
      "execution_count": null,
      "id": "2ac1dce0",
      "metadata": {
        "id": "2ac1dce0"
      },
      "outputs": [],
      "source": [
        "filtered_df = aggragated_df[aggragated_df['rank']<6].copy()\n",
        "\n",
        "filtered_df = filtered_df.reset_index(level=1)\n",
        "\n",
        "filtered_df.index = filtered_df.index+pd.DateOffset(1)\n",
        "\n",
        "filtered_df = filtered_df.reset_index().set_index(['date', 'symbol'])\n",
        "\n",
        "filtered_df.head(20)"
      ]
    },
    {
      "cell_type": "markdown",
      "id": "f2ecadd7",
      "metadata": {
        "id": "f2ecadd7"
      },
      "source": [
        "## 4. Extract the stocks to form portfolios with at the start of each new month\n",
        "\n",
        "* Create a dictionary containing start of month and corresponded selected stocks."
      ]
    },
    {
      "cell_type": "code",
      "execution_count": null,
      "id": "ddc646c0",
      "metadata": {
        "id": "ddc646c0"
      },
      "outputs": [],
      "source": [
        "dates = filtered_df.index.get_level_values('date').unique().tolist()\n",
        "\n",
        "fixed_dates = {}\n",
        "\n",
        "for d in dates:\n",
        "\n",
        "    fixed_dates[d.strftime('%Y-%m-%d')] = filtered_df.xs(d, level=0).index.tolist()\n",
        "\n",
        "fixed_dates"
      ]
    },
    {
      "cell_type": "markdown",
      "id": "a9750aea",
      "metadata": {
        "id": "a9750aea"
      },
      "source": [
        "## 5. Download fresh stock prices for only selected/shortlisted stocks"
      ]
    },
    {
      "cell_type": "code",
      "execution_count": null,
      "id": "b6503bff",
      "metadata": {
        "id": "b6503bff"
      },
      "outputs": [],
      "source": [
        "stocks_list = sentiment_df.index.get_level_values('symbol').unique().tolist()\n",
        "\n",
        "prices_df = yf.download(tickers=stocks_list,\n",
        "                        start='2021-01-01',\n",
        "                        end='2023-03-01')"
      ]
    },
    {
      "cell_type": "markdown",
      "id": "d64da79b",
      "metadata": {
        "id": "d64da79b"
      },
      "source": [
        "## 6. Calculate Portfolio Returns with monthly rebalancing\n"
      ]
    },
    {
      "cell_type": "code",
      "execution_count": null,
      "id": "94971d78",
      "metadata": {
        "id": "94971d78"
      },
      "outputs": [],
      "source": [
        "returns_df = np.log(prices_df['Adj Close']).diff().dropna()\n",
        "\n",
        "portfolio_df = pd.DataFrame()\n",
        "\n",
        "for start_date in fixed_dates.keys():\n",
        "\n",
        "    end_date = (pd.to_datetime(start_date)+pd.offsets.MonthEnd()).strftime('%Y-%m-%d')\n",
        "\n",
        "    cols = fixed_dates[start_date]\n",
        "\n",
        "    temp_df = returns_df[start_date:end_date][cols].mean(axis=1).to_frame('portfolio_return')\n",
        "\n",
        "    portfolio_df = pd.concat([portfolio_df, temp_df], axis=0)\n",
        "\n",
        "portfolio_df"
      ]
    },
    {
      "cell_type": "markdown",
      "id": "b4f3f0d7",
      "metadata": {
        "id": "b4f3f0d7"
      },
      "source": [
        "## 7. Download NASDAQ/QQQ prices and calculate returns to compare to our strategy"
      ]
    },
    {
      "cell_type": "code",
      "execution_count": null,
      "id": "a59d9f00",
      "metadata": {
        "id": "a59d9f00"
      },
      "outputs": [],
      "source": [
        "qqq_df = yf.download(tickers='QQQ',\n",
        "                     start='2021-01-01',\n",
        "                     end='2023-03-01')\n",
        "\n",
        "qqq_ret = np.log(qqq_df['Adj Close']).diff().to_frame('nasdaq_return')\n",
        "\n",
        "portfolio_df = portfolio_df.merge(qqq_ret,\n",
        "                                  left_index=True,\n",
        "                                  right_index=True)\n",
        "\n",
        "portfolio_df"
      ]
    },
    {
      "cell_type": "code",
      "execution_count": null,
      "id": "bf728f75",
      "metadata": {
        "scrolled": true,
        "id": "bf728f75"
      },
      "outputs": [],
      "source": [
        "portfolios_cumulative_return = np.exp(np.log1p(portfolio_df).cumsum()).sub(1)\n",
        "\n",
        "portfolios_cumulative_return.plot(figsize=(16,6))\n",
        "\n",
        "plt.title('Twitter Engagement Ratio Strategy Return Over Time')\n",
        "\n",
        "plt.gca().yaxis.set_major_formatter(mtick.PercentFormatter(1))\n",
        "\n",
        "plt.ylabel('Return')\n",
        "\n",
        "plt.show()"
      ]
    },
    {
      "cell_type": "code",
      "execution_count": null,
      "id": "73f62ac0",
      "metadata": {
        "id": "73f62ac0"
      },
      "outputs": [],
      "source": []
    },
    {
      "cell_type": "code",
      "execution_count": null,
      "id": "4d6d8cc1",
      "metadata": {
        "id": "4d6d8cc1"
      },
      "outputs": [],
      "source": []
    },
    {
      "cell_type": "code",
      "execution_count": null,
      "id": "a4d557c5",
      "metadata": {
        "id": "a4d557c5"
      },
      "outputs": [],
      "source": []
    },
    {
      "cell_type": "code",
      "execution_count": null,
      "id": "ce7c05b3",
      "metadata": {
        "id": "ce7c05b3"
      },
      "outputs": [],
      "source": []
    },
    {
      "cell_type": "code",
      "execution_count": null,
      "id": "08f25123",
      "metadata": {
        "id": "08f25123"
      },
      "outputs": [],
      "source": []
    },
    {
      "cell_type": "code",
      "execution_count": null,
      "id": "22cfc09d",
      "metadata": {
        "id": "22cfc09d"
      },
      "outputs": [],
      "source": []
    },
    {
      "cell_type": "markdown",
      "id": "51f43be9",
      "metadata": {
        "id": "51f43be9"
      },
      "source": [
        "# Intraday Strategy Using GARCH Model\n",
        "\n",
        "\n",
        "* Using simulated daily data and intraday 5-min data.\n",
        "* Load Daily and 5-minute data.\n",
        "* Define function to fit GARCH model on the daily data and predict 1-day ahead volatility in a rolling window.\n",
        "* Calculate prediction premium and form a daily signal from it.\n",
        "* Merge with intraday data and calculate intraday indicators to form the intraday signal.\n",
        "* Generate the position entry and hold until the end of the day.\n",
        "* Calculate final strategy returns."
      ]
    },
    {
      "cell_type": "markdown",
      "id": "46be3499",
      "metadata": {
        "id": "46be3499"
      },
      "source": [
        "## 1. Load Simulated Daily and Simulated 5-minute data.\n",
        "\n",
        "* We are loading both datasets, set the indexes and calculate daily log returns."
      ]
    },
    {
      "cell_type": "code",
      "execution_count": null,
      "id": "f21b8e8c",
      "metadata": {
        "id": "f21b8e8c"
      },
      "outputs": [],
      "source": [
        "import matplotlib.pyplot as plt\n",
        "from arch import arch_model\n",
        "import pandas_ta\n",
        "import pandas as pd\n",
        "import numpy as np\n",
        "import os\n",
        "\n",
        "data_folder = 'C:/Users/user/Desktop/Python Scripts'\n",
        "\n",
        "daily_df = pd.read_csv(os.path.join(data_folder, 'simulated_daily_data.csv'))\n",
        "\n",
        "daily_df = daily_df.drop('Unnamed: 7', axis=1)\n",
        "\n",
        "daily_df['Date'] = pd.to_datetime(daily_df['Date'])\n",
        "\n",
        "daily_df = daily_df.set_index('Date')\n",
        "\n",
        "\n",
        "intraday_5min_df = pd.read_csv(os.path.join(data_folder, 'simulated_5min_data.csv'))\n",
        "\n",
        "intraday_5min_df = intraday_5min_df.drop('Unnamed: 6', axis=1)\n",
        "\n",
        "intraday_5min_df['datetime'] = pd.to_datetime(intraday_5min_df['datetime'])\n",
        "\n",
        "intraday_5min_df = intraday_5min_df.set_index('datetime')\n",
        "\n",
        "intraday_5min_df['date'] = pd.to_datetime(intraday_5min_df.index.date)\n",
        "\n",
        "intraday_5min_df"
      ]
    },
    {
      "cell_type": "markdown",
      "id": "ac0b9cc4",
      "metadata": {
        "id": "ac0b9cc4"
      },
      "source": [
        "## 2. Define function to fit GARCH model and predict 1-day ahead volatility in a rolling window.\n",
        "\n",
        "* We are first calculating the 6-month rolling variance and then we are creating a function in a 6-month rolling window to fit a garch model and predict the next day variance."
      ]
    },
    {
      "cell_type": "code",
      "execution_count": null,
      "id": "bed18e20",
      "metadata": {
        "scrolled": true,
        "id": "bed18e20"
      },
      "outputs": [],
      "source": [
        "daily_df['log_ret'] = np.log(daily_df['Adj Close']).diff()\n",
        "\n",
        "daily_df['variance'] = daily_df['log_ret'].rolling(180).var()\n",
        "\n",
        "daily_df = daily_df['2020':]\n",
        "\n",
        "def predict_volatility(x):\n",
        "\n",
        "    best_model = arch_model(y=x,\n",
        "                            p=1,\n",
        "                            q=3).fit(update_freq=5,\n",
        "                                     disp='off')\n",
        "\n",
        "    variance_forecast = best_model.forecast(horizon=1).variance.iloc[-1,0]\n",
        "\n",
        "    print(x.index[-1])\n",
        "\n",
        "    return variance_forecast\n",
        "\n",
        "daily_df['predictions'] = daily_df['log_ret'].rolling(180).apply(lambda x: predict_volatility(x))\n",
        "\n",
        "daily_df = daily_df.dropna()\n",
        "\n",
        "daily_df"
      ]
    },
    {
      "cell_type": "markdown",
      "id": "1d692730",
      "metadata": {
        "id": "1d692730"
      },
      "source": [
        "## 3. Calculate prediction premium and form a daily signal from it.\n",
        "\n",
        "* We are calculating the prediction premium. And calculate its 6-month rolling standard deviation.\n",
        "\n",
        "* From this we are creating our daily signal."
      ]
    },
    {
      "cell_type": "code",
      "execution_count": null,
      "id": "0eb535a3",
      "metadata": {
        "id": "0eb535a3"
      },
      "outputs": [],
      "source": [
        "daily_df['prediction_premium'] = (daily_df['predictions']-daily_df['variance'])/daily_df['variance']\n",
        "\n",
        "daily_df['premium_std'] = daily_df['prediction_premium'].rolling(180).std()\n",
        "\n",
        "daily_df['signal_daily'] = daily_df.apply(lambda x: 1 if (x['prediction_premium']>x['premium_std'])\n",
        "                                         else (-1 if (x['prediction_premium']<x['premium_std']*-1) else np.nan),\n",
        "                                         axis=1)\n",
        "\n",
        "daily_df['signal_daily'] = daily_df['signal_daily'].shift()\n",
        "\n",
        "daily_df"
      ]
    },
    {
      "cell_type": "code",
      "execution_count": null,
      "id": "3dd44075",
      "metadata": {
        "id": "3dd44075"
      },
      "outputs": [],
      "source": [
        "plt.style.use('ggplot')\n",
        "\n",
        "daily_df['signal_daily'].plot(kind='hist')\n",
        "\n",
        "plt.show()"
      ]
    },
    {
      "cell_type": "markdown",
      "id": "5467e501",
      "metadata": {
        "id": "5467e501"
      },
      "source": [
        "## 4. Merge with intraday data and calculate intraday indicators to form the intraday signal.\n",
        "\n",
        "* Calculate all intraday indicators and intraday signal."
      ]
    },
    {
      "cell_type": "code",
      "execution_count": null,
      "id": "88d99a01",
      "metadata": {
        "id": "88d99a01"
      },
      "outputs": [],
      "source": [
        "final_df = intraday_5min_df.reset_index()\\\n",
        "                            .merge(daily_df[['signal_daily']].reset_index(),\n",
        "                                   left_on='date',\n",
        "                                   right_on='Date')\\\n",
        "                            .drop(['date','Date'], axis=1)\\\n",
        "                            .set_index('datetime')\n",
        "\n",
        "final_df['rsi'] = pandas_ta.rsi(close=final_df['close'],\n",
        "                                length=20)\n",
        "\n",
        "final_df['lband'] = pandas_ta.bbands(close=final_df['close'],\n",
        "                                     length=20).iloc[:,0]\n",
        "\n",
        "final_df['uband'] = pandas_ta.bbands(close=final_df['close'],\n",
        "                                     length=20).iloc[:,2]\n",
        "\n",
        "final_df['signal_intraday'] = final_df.apply(lambda x: 1 if (x['rsi']>70)&\n",
        "                                                            (x['close']>x['uband'])\n",
        "                                             else (-1 if (x['rsi']<30)&\n",
        "                                                         (x['close']<x['lband']) else np.nan),\n",
        "                                             axis=1)\n",
        "\n",
        "final_df['return'] = np.log(final_df['close']).diff()\n",
        "\n",
        "final_df"
      ]
    },
    {
      "cell_type": "markdown",
      "id": "ae154db7",
      "metadata": {
        "id": "ae154db7"
      },
      "source": [
        "## 5. Generate the position entry and hold until the end of the day."
      ]
    },
    {
      "cell_type": "code",
      "execution_count": null,
      "id": "b4a4dcdf",
      "metadata": {
        "id": "b4a4dcdf"
      },
      "outputs": [],
      "source": [
        "final_df['return_sign'] = final_df.apply(lambda x: -1 if (x['signal_daily']==1)&(x['signal_intraday']==1)\n",
        "                                        else (1 if (x['signal_daily']==-1)&(x['signal_intraday']==-1) else np.nan),\n",
        "                                        axis=1)\n",
        "\n",
        "final_df['return_sign'] = final_df.groupby(pd.Grouper(freq='D'))['return_sign']\\\n",
        "                                  .transform(lambda x: x.ffill())\n",
        "\n",
        "final_df['forward_return'] = final_df['return'].shift(-1)\n",
        "\n",
        "final_df['strategy_return'] = final_df['forward_return']*final_df['return_sign']\n",
        "\n",
        "daily_return_df = final_df.groupby(pd.Grouper(freq='D'))['strategy_return'].sum()"
      ]
    },
    {
      "cell_type": "markdown",
      "id": "03dd2e02",
      "metadata": {
        "id": "03dd2e02"
      },
      "source": [
        "## 6. Calculate final strategy returns."
      ]
    },
    {
      "cell_type": "code",
      "execution_count": null,
      "id": "93caf5fd",
      "metadata": {
        "id": "93caf5fd"
      },
      "outputs": [],
      "source": [
        "import matplotlib.ticker as mtick\n",
        "\n",
        "strategy_cumulative_return = np.exp(np.log1p(daily_return_df).cumsum()).sub(1)\n",
        "\n",
        "strategy_cumulative_return.plot(figsize=(16,6))\n",
        "\n",
        "plt.title('Intraday Strategy Returns')\n",
        "\n",
        "plt.gca().yaxis.set_major_formatter(mtick.PercentFormatter(1))\n",
        "\n",
        "plt.ylabel('Return')\n",
        "\n",
        "plt.show()\n",
        ""
      ]
    },
    {
      "cell_type": "code",
      "execution_count": null,
      "id": "5b57aa20",
      "metadata": {
        "id": "5b57aa20"
      },
      "outputs": [],
      "source": []
    },
    {
      "cell_type": "code",
      "execution_count": null,
      "id": "6806c20d",
      "metadata": {
        "id": "6806c20d"
      },
      "outputs": [],
      "source": []
    },
    {
      "cell_type": "code",
      "execution_count": null,
      "id": "3787c376",
      "metadata": {
        "id": "3787c376"
      },
      "outputs": [],
      "source": []
    },
    {
      "cell_type": "code",
      "execution_count": null,
      "id": "0976c731",
      "metadata": {
        "id": "0976c731"
      },
      "outputs": [],
      "source": []
    }
  ],
  "metadata": {
    "kernelspec": {
      "display_name": "Python 3",
      "language": "python",
      "name": "python3"
    },
    "language_info": {
      "codemirror_mode": {
        "name": "ipython",
        "version": 3
      },
      "file_extension": ".py",
      "mimetype": "text/x-python",
      "name": "python",
      "nbconvert_exporter": "python",
      "pygments_lexer": "ipython3",
      "version": "3.8.8"
    },
    "colab": {
      "provenance": []
    }
  },
  "nbformat": 4,
  "nbformat_minor": 5
}