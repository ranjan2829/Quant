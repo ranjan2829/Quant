{
  "nbformat": 4,
  "nbformat_minor": 0,
  "metadata": {
    "colab": {
      "provenance": [],
      "authorship_tag": "ABX9TyMy1mJ2bPcfkeD/n/rnwiac",
      "include_colab_link": true
    },
    "kernelspec": {
      "name": "python3",
      "display_name": "Python 3"
    },
    "language_info": {
      "name": "python"
    }
  },
  "cells": [
    {
      "cell_type": "markdown",
      "metadata": {
        "id": "view-in-github",
        "colab_type": "text"
      },
      "source": [
        "<a href=\"https://colab.research.google.com/github/ranjan2829/Quant/blob/main/Monte_Carlo_FInancial_Model.ipynb\" target=\"_parent\"><img src=\"https://colab.research.google.com/assets/colab-badge.svg\" alt=\"Open In Colab\"/></a>"
      ]
    },
    {
      "cell_type": "code",
      "execution_count": 1,
      "metadata": {
        "colab": {
          "base_uri": "https://localhost:8080/"
        },
        "id": "hwZ9OvfxZDh1",
        "outputId": "8a81808b-fa91-46d0-cf6e-f78932ae355a"
      },
      "outputs": [
        {
          "output_type": "stream",
          "name": "stdout",
          "text": [
            "Requirement already satisfied: pandas_datareader in /usr/local/lib/python3.10/dist-packages (0.10.0)\n",
            "Requirement already satisfied: lxml in /usr/local/lib/python3.10/dist-packages (from pandas_datareader) (4.9.4)\n",
            "Requirement already satisfied: pandas>=0.23 in /usr/local/lib/python3.10/dist-packages (from pandas_datareader) (1.5.3)\n",
            "Requirement already satisfied: requests>=2.19.0 in /usr/local/lib/python3.10/dist-packages (from pandas_datareader) (2.31.0)\n",
            "Requirement already satisfied: python-dateutil>=2.8.1 in /usr/local/lib/python3.10/dist-packages (from pandas>=0.23->pandas_datareader) (2.8.2)\n",
            "Requirement already satisfied: pytz>=2020.1 in /usr/local/lib/python3.10/dist-packages (from pandas>=0.23->pandas_datareader) (2023.3.post1)\n",
            "Requirement already satisfied: numpy>=1.21.0 in /usr/local/lib/python3.10/dist-packages (from pandas>=0.23->pandas_datareader) (1.23.5)\n",
            "Requirement already satisfied: charset-normalizer<4,>=2 in /usr/local/lib/python3.10/dist-packages (from requests>=2.19.0->pandas_datareader) (3.3.2)\n",
            "Requirement already satisfied: idna<4,>=2.5 in /usr/local/lib/python3.10/dist-packages (from requests>=2.19.0->pandas_datareader) (3.6)\n",
            "Requirement already satisfied: urllib3<3,>=1.21.1 in /usr/local/lib/python3.10/dist-packages (from requests>=2.19.0->pandas_datareader) (2.0.7)\n",
            "Requirement already satisfied: certifi>=2017.4.17 in /usr/local/lib/python3.10/dist-packages (from requests>=2.19.0->pandas_datareader) (2023.11.17)\n",
            "Requirement already satisfied: six>=1.5 in /usr/local/lib/python3.10/dist-packages (from python-dateutil>=2.8.1->pandas>=0.23->pandas_datareader) (1.16.0)\n"
          ]
        }
      ],
      "source": [
        "## This is required for pandas_datareader on google colab - then you need to restart runtime\n",
        "!pip install --upgrade pandas_datareader\n"
      ]
    },
    {
      "cell_type": "code",
      "source": [
        "# Import dependencies\n",
        "import math\n",
        "import numpy as np\n",
        "import pandas as pd\n",
        "import datetime\n",
        "import scipy.stats as stats\n",
        "import matplotlib.pyplot as plt\n",
        "from pandas_datareader import data as pdr\n"
      ],
      "metadata": {
        "id": "QEOAWphWZfze"
      },
      "execution_count": 2,
      "outputs": []
    },
    {
      "cell_type": "code",
      "source": [
        "import datetime\n",
        "import yfinance as yf\n",
        "import numpy as np\n",
        "\n",
        "def get_data(stocks, start, end):\n",
        "    data = yf.download(stocks, start=start, end=end)['Close']\n",
        "    returns = data.pct_change()\n",
        "    means_return = returns.mean()\n",
        "    cov_matrix = returns.cov()\n",
        "    return means_return, cov_matrix\n",
        "\n",
        "stklist = ['CBA', 'BHP', 'NAB', 'WBC', 'STO']\n",
        "stks = [stock + '.AX' for stock in stklist]\n",
        "end = datetime.datetime.now()\n",
        "start = end - datetime.timedelta(days=300)\n",
        "means_return, cov_matrix = get_data(stks, start, end)\n",
        "\n",
        "weights = np.random.random(len(means_return))\n",
        "weights /= np.sum(weights)\n"
      ],
      "metadata": {
        "colab": {
          "base_uri": "https://localhost:8080/"
        },
        "id": "bAnhpJXFZmQP",
        "outputId": "0c5b028a-1954-4552-85d6-d6085b356b02"
      },
      "execution_count": 12,
      "outputs": [
        {
          "output_type": "stream",
          "name": "stdout",
          "text": [
            "[*********************100%%**********************]  5 of 5 completed\n"
          ]
        }
      ]
    },
    {
      "cell_type": "code",
      "source": [
        "monte=400\n",
        "T=100\n",
        "\n",
        "meanM=np.full(shape=(T,len(weights)),fill_value=means_return)\n",
        "meanM=meanM.T"
      ],
      "metadata": {
        "id": "gY6C3tXGeLUM"
      },
      "execution_count": 15,
      "outputs": []
    },
    {
      "cell_type": "code",
      "source": [
        "portfolio=np.full(shape=(T,monte),fill_value=0.0)\n",
        "initial_p=10000"
      ],
      "metadata": {
        "id": "1YOqoP0Gf7Ur"
      },
      "execution_count": 16,
      "outputs": []
    },
    {
      "cell_type": "code",
      "source": [
        "for m in range(0, monte):\n",
        "    Z = np.random.normal(size=(T, len(weights)))#uncorrelated RV's\n",
        "    L = np.linalg.cholesky(cov_matrix) #Cholesky decomposition to Lower Triangular Matrix\n",
        "    dailyReturns = meanM + np.inner(L, Z) #Correlated daily returns for individual stocks\n",
        "    portfolio[:,m] = np.cumprod(np.inner(weights, dailyReturns.T)+1)*initial_p\n"
      ],
      "metadata": {
        "id": "fATILl0Lgxi7"
      },
      "execution_count": 21,
      "outputs": []
    },
    {
      "cell_type": "code",
      "source": [],
      "metadata": {
        "id": "qif6MFpNg4iy"
      },
      "execution_count": null,
      "outputs": []
    }
  ]
}