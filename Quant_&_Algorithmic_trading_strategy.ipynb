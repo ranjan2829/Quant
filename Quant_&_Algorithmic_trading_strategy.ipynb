{
  "nbformat": 4,
  "nbformat_minor": 0,
  "metadata": {
    "colab": {
      "provenance": [],
      "authorship_tag": "ABX9TyP8cgbOvzCKKODQi3zIg/4/",
      "include_colab_link": true
    },
    "kernelspec": {
      "name": "python3",
      "display_name": "Python 3"
    },
    "language_info": {
      "name": "python"
    }
  },
  "cells": [
    {
      "cell_type": "markdown",
      "metadata": {
        "id": "view-in-github",
        "colab_type": "text"
      },
      "source": [
        "<a href=\"https://colab.research.google.com/github/ranjan2829/Quant/blob/main/Quant_%26_Algorithmic_trading_strategy.ipynb\" target=\"_parent\"><img src=\"https://colab.research.google.com/assets/colab-badge.svg\" alt=\"Open In Colab\"/></a>"
      ]
    },
    {
      "cell_type": "markdown",
      "source": [
        "Unsupervised Learning on s&p 500 stocks\n"
      ],
      "metadata": {
        "id": "VNQo_yxOaK4H"
      }
    },
    {
      "cell_type": "code",
      "source": [
        "pip install pandas_ta\n"
      ],
      "metadata": {
        "colab": {
          "base_uri": "https://localhost:8080/"
        },
        "id": "Q79DOV3qbdoP",
        "outputId": "9e2107bf-51f7-420e-e362-37b7ba289878"
      },
      "execution_count": 2,
      "outputs": [
        {
          "output_type": "stream",
          "name": "stdout",
          "text": [
            "Collecting pandas_ta\n",
            "  Downloading pandas_ta-0.3.14b.tar.gz (115 kB)\n",
            "\u001b[2K     \u001b[90m━━━━━━━━━━━━━━━━━━━━━━━━━━━━━━━━━━━━━━━━\u001b[0m \u001b[32m115.1/115.1 kB\u001b[0m \u001b[31m1.0 MB/s\u001b[0m eta \u001b[36m0:00:00\u001b[0m\n",
            "\u001b[?25h  Preparing metadata (setup.py) ... \u001b[?25l\u001b[?25hdone\n",
            "Requirement already satisfied: pandas in /usr/local/lib/python3.10/dist-packages (from pandas_ta) (1.5.3)\n",
            "Requirement already satisfied: python-dateutil>=2.8.1 in /usr/local/lib/python3.10/dist-packages (from pandas->pandas_ta) (2.8.2)\n",
            "Requirement already satisfied: pytz>=2020.1 in /usr/local/lib/python3.10/dist-packages (from pandas->pandas_ta) (2023.3.post1)\n",
            "Requirement already satisfied: numpy>=1.21.0 in /usr/local/lib/python3.10/dist-packages (from pandas->pandas_ta) (1.23.5)\n",
            "Requirement already satisfied: six>=1.5 in /usr/local/lib/python3.10/dist-packages (from python-dateutil>=2.8.1->pandas->pandas_ta) (1.16.0)\n",
            "Building wheels for collected packages: pandas_ta\n",
            "  Building wheel for pandas_ta (setup.py) ... \u001b[?25l\u001b[?25hdone\n",
            "  Created wheel for pandas_ta: filename=pandas_ta-0.3.14b0-py3-none-any.whl size=218907 sha256=ef6936791882016a065ce0089c119444831c0df1e67400209f02ae9bf8ef153e\n",
            "  Stored in directory: /root/.cache/pip/wheels/69/00/ac/f7fa862c34b0e2ef320175100c233377b4c558944f12474cf0\n",
            "Successfully built pandas_ta\n",
            "Installing collected packages: pandas_ta\n",
            "Successfully installed pandas_ta-0.3.14b0\n"
          ]
        }
      ]
    },
    {
      "cell_type": "code",
      "source": [
        "from statsmodels.regression.rolling import RollingOLS\n",
        "import pandas_datareader.data as web\n",
        "import matplotlib.pyplot as plt\n",
        "import statsmodels.api as sm\n",
        "import pandas as pd\n",
        "import numpy as np\n",
        "import datetime as dt\n",
        "import yfinance as yf\n",
        "import pandas_ta\n",
        "import warnings\n",
        "warnings.filterwarnings('ignore')\n",
        "\n",
        "sp500 = pd.read_html('https://en.wikipedia.org/wiki/List_of_S%26P_500_companies')[0]\n",
        "\n",
        "sp500['Symbol'] = sp500['Symbol'].str.replace('.', '-')\n",
        "\n",
        "symbols_list = sp500['Symbol'].unique().tolist()\n",
        "\n",
        "end_date = '2023-09-27'\n",
        "\n",
        "start_date = pd.to_datetime(end_date)-pd.DateOffset(365*8)\n",
        "\n",
        "df = yf.download(tickers=symbols_list,\n",
        "                 start=start_date,\n",
        "                 end=end_date).stack()\n",
        "\n",
        "df.index.names = ['date', 'ticker']\n",
        "\n",
        "df.columns = df.columns.str.lower()\n",
        "\n",
        "df"
      ],
      "metadata": {
        "id": "CHB2UKexsWgD"
      },
      "execution_count": null,
      "outputs": []
    },
    {
      "cell_type": "code",
      "source": [
        "df['garman_volatility'] = ((np.log(df['high']) - np.log(df['low']))**2) / 2 - (2 * np.log(2) - 1) * (np.log(df['close']) - np.log(df['open'])**2)\n"
      ],
      "metadata": {
        "id": "yk1f8trCuMST"
      },
      "execution_count": null,
      "outputs": []
    },
    {
      "cell_type": "code",
      "source": [
        "df"
      ],
      "metadata": {
        "id": "IBmUEIPUyLTv"
      },
      "execution_count": null,
      "outputs": []
    },
    {
      "cell_type": "markdown",
      "source": [
        "\\begin{equation}\n",
        "\\text{Garman-Klass Volatility} = \\frac{(\\ln(\\text{High}) - \\ln(\\text{Low}))^2}{2} - (2\\ln(2) - 1)(\\ln(\\text{Adj Close}) - \\ln(\\text{Open}))^2\n",
        "\\end{equation}"
      ],
      "metadata": {
        "id": "fESscFwgESBx"
      }
    },
    {
      "cell_type": "code",
      "source": [
        "\n",
        "df['garman_klass_vol'] = ((np.log(df['high'])-np.log(df['low']))**2)/2-(2*np.log(2)-1)*((np.log(df['adj close'])-np.log(df['open']))**2)\n",
        "\n",
        "df['rsi'] = df.groupby(level=1)['adj close'].transform(lambda x: pandas_ta.rsi(close=x, length=20))"
      ],
      "metadata": {
        "id": "dvdj648oyRIS"
      },
      "execution_count": null,
      "outputs": []
    },
    {
      "cell_type": "code",
      "source": [
        "df.xs('AAPL',level=1)['rsi'].plot()"
      ],
      "metadata": {
        "id": "_yRFl04Cy6RS"
      },
      "execution_count": null,
      "outputs": []
    },
    {
      "cell_type": "code",
      "source": [
        "df['bb_low'] = df.groupby(level=1)['adj close'].transform(lambda x: pandas_ta.bbands(close=np.log1p(x), length=20).iloc[:,0])\n",
        "\n",
        "df['bb_mid'] = df.groupby(level=1)['adj close'].transform(lambda x: pandas_ta.bbands(close=np.log1p(x), length=20).iloc[:,1])\n",
        "\n",
        "df['bb_high'] = df.groupby(level=1)['adj close'].transform(lambda x: pandas_ta.bbands(close=np.log1p(x), length=20).iloc[:,2])\n"
      ],
      "metadata": {
        "id": "bfzQaOrszIIw"
      },
      "execution_count": null,
      "outputs": []
    },
    {
      "cell_type": "code",
      "source": [
        "df.xs('AAPL',level=1)['bb_low'].plot()"
      ],
      "metadata": {
        "id": "Rbyy0tuW2Mpf"
      },
      "execution_count": null,
      "outputs": []
    },
    {
      "cell_type": "code",
      "source": [
        "df.xs(\"AAPL\",level=1)['bb_high'].plot()\n",
        "df.xs('AAPL',level=1)['bb_low'].plot()\n",
        "df.xs(\"AAPL\",level=1)['bb_mid'].plot()"
      ],
      "metadata": {
        "id": "yCsvA48d2jU9"
      },
      "execution_count": null,
      "outputs": []
    },
    {
      "cell_type": "code",
      "source": [
        "df"
      ],
      "metadata": {
        "id": "1QiXZgt82sib"
      },
      "execution_count": null,
      "outputs": []
    },
    {
      "cell_type": "code",
      "source": [
        "def compute_atr(stock):\n",
        "  atr=pandas_ta.atr(high=stock['high'],\n",
        "                    low=stock['low'],\n",
        "                    close=stock['close'],\n",
        "                    length=14)\n",
        "  return atr.sub(atr.mean()).div(atr.std())\n"
      ],
      "metadata": {
        "id": "uFh9G_B9_IJt"
      },
      "execution_count": null,
      "outputs": []
    },
    {
      "cell_type": "code",
      "source": [
        "df['atr'] = df.groupby(level=1, group_keys=False).apply(compute_atr)"
      ],
      "metadata": {
        "id": "a0h7bBuG_n9i"
      },
      "execution_count": null,
      "outputs": []
    },
    {
      "cell_type": "code",
      "source": [
        "df.xs('AAPL',level=1)['atr'].plot()"
      ],
      "metadata": {
        "id": "1foVl_zy_3qC"
      },
      "execution_count": null,
      "outputs": []
    },
    {
      "cell_type": "code",
      "source": [
        "def compute_macd(close):\n",
        "  macd=pandas_ta.macd(close=close,length=20).iloc[:,0]\n",
        "  return macd.sub(macd.mean()).div(macd.std())\n"
      ],
      "metadata": {
        "id": "-g2E1MELANYz"
      },
      "execution_count": null,
      "outputs": []
    },
    {
      "cell_type": "code",
      "source": [
        "df['macd']=df.groupby(level=1,group_keys=False)['adj close'].apply(compute_macd)"
      ],
      "metadata": {
        "id": "1FObKSYYBHcN"
      },
      "execution_count": null,
      "outputs": []
    },
    {
      "cell_type": "code",
      "source": [
        "df.xs('AAPL',level=1)['macd'].plot()"
      ],
      "metadata": {
        "id": "wwlvAl1IBUsP"
      },
      "execution_count": null,
      "outputs": []
    },
    {
      "cell_type": "code",
      "source": [
        "df['dollar_vol']=(df['adj close']*df['volume'])/1e6"
      ],
      "metadata": {
        "id": "lmrL547rBcJ-"
      },
      "execution_count": null,
      "outputs": []
    },
    {
      "cell_type": "code",
      "source": [
        "df.xs('AAPL',level=1)['dollar_vol'].plot()"
      ],
      "metadata": {
        "id": "VcDRdUm4CcOv"
      },
      "execution_count": null,
      "outputs": []
    },
    {
      "cell_type": "code",
      "source": [
        "df"
      ],
      "metadata": {
        "id": "or4_ETaXCjRC"
      },
      "execution_count": null,
      "outputs": []
    },
    {
      "cell_type": "markdown",
      "source": [
        "## 3. Aggregate to monthly level and filter top 150 most liquid stocks for each month.\n",
        "\n",
        "* To reduce training time and experiment with features and strategies, we convert the business-daily data to month-end frequency."
      ],
      "metadata": {
        "id": "jENDxLi5EYa4"
      }
    },
    {
      "cell_type": "code",
      "source": [
        "last_cols = [c for c in df.columns.unique(0) if c not in ['dollar_vol', 'volume', 'open',\n",
        "                                                          'high', 'low', 'close']]\n",
        "\n"
      ],
      "metadata": {
        "id": "MiU-rk9OC7Ke"
      },
      "execution_count": null,
      "outputs": []
    },
    {
      "cell_type": "code",
      "source": [
        "df"
      ],
      "metadata": {
        "id": "yNlMJxdCG8Jv"
      },
      "execution_count": null,
      "outputs": []
    },
    {
      "cell_type": "code",
      "source": [
        "df['dollar_vol'] = (df.loc[:, 'dollar_vol'].unstack('ticker').rolling(5*12, min_periods=12).mean().stack())\n",
        "\n",
        "df['dollar_vol_rank'] = (df.groupby('date')['dollar_vol'].rank(ascending=False))\n",
        "\n",
        "df= df[df['dollar_vol_rank']<150].drop(['dollar_vol', 'dollar_vol_rank'], axis=1)\n",
        "\n"
      ],
      "metadata": {
        "id": "SSvT4n6aHTI-"
      },
      "execution_count": null,
      "outputs": []
    },
    {
      "source": [
        "df"
      ],
      "cell_type": "code",
      "metadata": {
        "id": "pR-QKeJKH-j6"
      },
      "execution_count": null,
      "outputs": []
    },
    {
      "cell_type": "code",
      "source": [],
      "metadata": {
        "id": "dCvZaphGHaTs"
      },
      "execution_count": null,
      "outputs": []
    }
  ]
}